{
 "cells": [
  {
   "cell_type": "code",
   "execution_count": 1,
   "metadata": {},
   "outputs": [
    {
     "name": "stdout",
     "output_type": "stream",
     "text": [
      "Starting Spark application\n"
     ]
    },
    {
     "data": {
      "text/html": [
       "<table>\n",
       "<tr><th>ID</th><th>YARN Application ID</th><th>Kind</th><th>State</th><th>Spark UI</th><th>Driver log</th><th>Current session?</th></tr><tr><td>2</td><td>application_1562076994919_0003</td><td>pyspark</td><td>idle</td><td><a target=\"_blank\" href=\"http://ip-172-32-111-224.ec2.internal:20888/proxy/application_1562076994919_0003/\">Link</a></td><td><a target=\"_blank\" href=\"http://ip-172-32-114-144.ec2.internal:8042/node/containerlogs/container_1562076994919_0003_01_000001/livy\">Link</a></td><td>✔</td></tr></table>"
      ],
      "text/plain": [
       "<IPython.core.display.HTML object>"
      ]
     },
     "metadata": {},
     "output_type": "display_data"
    },
    {
     "name": "stdout",
     "output_type": "stream",
     "text": [
      "SparkSession available as 'spark'.\n",
      "root\n",
      "|-- id: int\n",
      "|-- e_type: string\n",
      "|-- metadata: string\n",
      "\n",
      "+---+------+------------+\n",
      "| id|e_type|    metadata|\n",
      "+---+------+------------+\n",
      "|  1|  thor|{\"k1\":\"v11\"}|\n",
      "|  2|  hulk|{\"k2\":\"v12\"}|\n",
      "|  3|  thor|{\"k1\":\"v13\"}|\n",
      "|  4|  hulk|{\"k1\":\"v14\"}|\n",
      "|  5|  hulk|{\"p1\":\"v14\"}|\n",
      "+---+------+------------+"
     ]
    }
   ],
   "source": [
    "import sys\n",
    "from awsglue.transforms import *\n",
    "from awsglue.utils import getResolvedOptions\n",
    "from pyspark.context import SparkContext\n",
    "from awsglue.context import GlueContext\n",
    "from awsglue.job import Job\n",
    "\n",
    "## @params: [JOB_NAME]\n",
    "\n",
    "glueContext = GlueContext(sc)\n",
    "spark = glueContext.spark_session\n",
    "## @type: DataSource\n",
    "## @args: [database = \"forjdbc\", table_name = \"postgres_postgres_public_tb\", transformation_ctx = \"datasource0\"]\n",
    "## @return: datasource0\n",
    "## @inputs: []\n",
    "datasource0 = glueContext.create_dynamic_frame.from_catalog(database = \"forjdbc\", table_name = \"post_gres_postgres_public_tbf\", transformation_ctx = \"datasource0\")\n",
    "datasource0.printSchema()\n",
    "datasource0.toDF().show()"
   ]
  },
  {
   "cell_type": "code",
   "execution_count": 2,
   "metadata": {},
   "outputs": [
    {
     "name": "stdout",
     "output_type": "stream",
     "text": [
      "frame1\n",
      "+---+------+------------+\n",
      "| id|e_type|    metadata|\n",
      "+---+------+------------+\n",
      "|  1|  thor|{\"k1\":\"v11\"}|\n",
      "|  3|  thor|{\"k1\":\"v13\"}|\n",
      "+---+------+------------+\n",
      "\n",
      "frame2\n",
      "+---+------+------------+\n",
      "| id|e_type|    metadata|\n",
      "+---+------+------------+\n",
      "|  2|  hulk|{\"k2\":\"v12\"}|\n",
      "|  4|  hulk|{\"k1\":\"v14\"}|\n",
      "|  5|  hulk|{\"p1\":\"v14\"}|\n",
      "+---+------+------------+"
     ]
    }
   ],
   "source": [
    "output = SplitRows.apply(frame = datasource0, comparison_dict = {\"e_type\": {\"=\": \"thor\"}}, name1=\"frame1\", name2=\"frame2\",transformation_ctx = \"output\")\n",
    "\n",
    "frame1= output.select(\"frame1\")\n",
    "frame2 = output.select(\"frame2\")\n",
    "\n",
    "print(\"frame1\")\n",
    "frame1.toDF().show()\n",
    "\n",
    "print(\"frame2\")\n",
    "frame2.toDF().show()"
   ]
  },
  {
   "cell_type": "code",
   "execution_count": 3,
   "metadata": {},
   "outputs": [
    {
     "name": "stdout",
     "output_type": "stream",
     "text": [
      "unboxedFrame1\n",
      "root\n",
      "|-- id: int\n",
      "|-- e_type: string\n",
      "|-- metadata: struct\n",
      "|    |-- k2: string\n",
      "|    |-- k1: string\n",
      "|    |-- p1: string\n",
      "\n",
      "+---+------+---------------+\n",
      "| id|e_type|       metadata|\n",
      "+---+------+---------------+\n",
      "|  2|  hulk|[v12,null,null]|\n",
      "|  4|  hulk|[null,v14,null]|\n",
      "|  5|  hulk|[null,null,v14]|\n",
      "+---+------+---------------+\n",
      "\n",
      "AfterRelationlizeFrame1\n",
      "root\n",
      "|-- id: int\n",
      "|-- e_type: string\n",
      "|-- metadata.p1: string\n",
      "|-- metadata.k2: string\n",
      "|-- metadata.k1: string\n",
      "\n",
      "+---+------+-----------+-----------+-----------+\n",
      "| id|e_type|metadata.p1|metadata.k2|metadata.k1|\n",
      "+---+------+-----------+-----------+-----------+\n",
      "|  2|  hulk|       null|        v12|       null|\n",
      "|  4|  hulk|       null|       null|        v14|\n",
      "|  5|  hulk|        v14|       null|       null|\n",
      "+---+------+-----------+-----------+-----------+"
     ]
    }
   ],
   "source": [
    "unboxedFrame1 = Unbox.apply(frame = frame2,path =\"metadata\",format = \"json\", withHeader = \"True\")\n",
    "print(\"unboxedFrame1\")\n",
    "unboxedFrame1.printSchema()\n",
    "unboxedFrame1.toDF().show()\n",
    "\n",
    "afterRelationlize1 = Relationalize.apply(frame = unboxedFrame1, staging_path = \"s3://kanwarsh/GlueTempdir/\", name = \"finaldata\", transformation_ctx = \"afterRelationlize1\")\n",
    "y = afterRelationlize1.select(\"finaldata\")\n",
    "print(\"AfterRelationlizeFrame1\")\n",
    "y.printSchema()\n",
    "y.toDF().show()"
   ]
  },
  {
   "cell_type": "code",
   "execution_count": null,
   "metadata": {},
   "outputs": [],
   "source": []
  }
 ],
 "metadata": {
  "kernelspec": {
   "display_name": "Sparkmagic (PySpark)",
   "language": "",
   "name": "pysparkkernel"
  },
  "language_info": {
   "codemirror_mode": {
    "name": "python",
    "version": 2
   },
   "mimetype": "text/x-python",
   "name": "pyspark",
   "pygments_lexer": "python2"
  }
 },
 "nbformat": 4,
 "nbformat_minor": 2
}
